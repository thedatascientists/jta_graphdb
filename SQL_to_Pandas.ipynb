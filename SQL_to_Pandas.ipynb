{
 "cells": [
  {
   "cell_type": "code",
   "execution_count": null,
   "source": [
    "!pip install pyodbc"
   ],
   "outputs": [],
   "metadata": {}
  },
  {
   "cell_type": "code",
   "execution_count": null,
   "source": [
    "import pyodbc\r\n",
    "import pandas as pd"
   ],
   "outputs": [],
   "metadata": {}
  },
  {
   "cell_type": "code",
   "execution_count": null,
   "source": [
    "connection = pyodbc.connect('Driver={SQL Server};'\r\n",
    "                      'Server=smbanalytics.database.windows.net;'\r\n",
    "                      'Database=RevenueAttr;'\r\n",
    "                      'UID=dgomes;'\r\n",
    "                      'PWD=Spr1nger!;'\r\n",
    "                      'Trusted_Connection=no;')\r\n",
    "\r\n",
    "cursor = connection.cursor()"
   ],
   "outputs": [],
   "metadata": {}
  },
  {
   "cell_type": "code",
   "execution_count": null,
   "source": [
    "query = \"SELECT [CustomerID], [OrgName], [SubsidiaryID], [CountryName] , [SalesMonthID], MonthFullName, C.RevSumDivisionID, RevSumDivisionName, PricingLevelName, ProductFamilyName, \\\r\n",
    "\t   SUM([CommittedLicenseCnt]) AS [CommittedLicenseCnt], SUM([ActualLicenseCnt]) AS [ActualLicenseCnt], SUM([ActualRevenueAmt]) AS [ActualRevenueAmt] \\\r\n",
    "FROM [ETL].[Source_GraphDB] G \\\r\n",
    "INNER JOIN [Cube].[DIM:PricingLevelHierarchy] P\t\t\t\t\t\t\t\t\t  ON G.DetailPricingLevelID = P.DetailPricingLevelID \\\r\n",
    "INNER JOIN (SELECT DISTINCT Monthid, MonthFullname FROM [Cube].[DIM:SalesDate])SD ON G.SalesMonthID=SD.MonthID \\\r\n",
    "INNER JOIN [cube].[DIM:RevSumCategory_FY22]\tC\t\t\t\t\t\t\t\t\t  ON C.RevSumCategoryID=G.RevSumCategoryID \\\r\n",
    "INNER JOIN [cube].[DIM:RevSumDivision] RSD\t\t\t\t\t\t\t\t\t\t  ON RSD.RevSumDivisionID=C.RevSumDivisionID \\\r\n",
    "WHERE AgreementVersionID<>0 \\\r\n",
    "GROUP BY [CustomerID], [OrgName], [SubsidiaryID], [CountryName], [SalesMonthID], MonthFullName, C.RevSumDivisionID, RevSumDivisionName, PricingLevelName,  ProductFamilyName \""
   ],
   "outputs": [],
   "metadata": {}
  },
  {
   "cell_type": "code",
   "execution_count": null,
   "source": [
    "df = pd.read_sql(query, connection)"
   ],
   "outputs": [],
   "metadata": {}
  },
  {
   "cell_type": "code",
   "execution_count": null,
   "source": [
    "df.to_csv(\"db.csv\")"
   ],
   "outputs": [],
   "metadata": {}
  }
 ],
 "metadata": {
  "kernelspec": {
   "name": "python3",
   "display_name": "Python 3.8.8 64-bit ('base': conda)"
  },
  "language_info": {
   "codemirror_mode": {
    "name": "ipython",
    "version": 3
   },
   "file_extension": ".py",
   "mimetype": "text/x-python",
   "name": "python",
   "nbconvert_exporter": "python",
   "pygments_lexer": "ipython3",
   "version": "3.8.8"
  },
  "interpreter": {
   "hash": "b3ba2566441a7c06988d0923437866b63cedc61552a5af99d1f4fb67d367b25f"
  }
 },
 "nbformat": 4,
 "nbformat_minor": 5
}